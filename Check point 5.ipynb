{
 "cells": [
  {
   "cell_type": "code",
   "execution_count": 6,
   "id": "4cb1e4a1",
   "metadata": {},
   "outputs": [
    {
     "name": "stdout",
     "output_type": "stream",
     "text": [
      "(1, 2, 3)\n"
     ]
    }
   ],
   "source": [
    "class Point3D(object):\n",
    "    def __init__(self, x, y, z):\n",
    "        self.x = x\n",
    "        self.y = y\n",
    "        self.z = z\n",
    "    def __repr__(self):\n",
    "        return \"(%d, %d, %d)\" % (self.x, self.y, self.z)\n",
    "        \n",
    "my_point = Point3D(1,2,3)\n",
    "\n",
    "print (my_point)\n"
   ]
  },
  {
   "cell_type": "code",
   "execution_count": 8,
   "id": "6d87b9e4",
   "metadata": {},
   "outputs": [
    {
     "name": "stdout",
     "output_type": "stream",
     "text": [
      "12\n"
     ]
    }
   ],
   "source": [
    "class Rectangle():\n",
    "    def __init__(self, l, w):\n",
    "        self.length = l\n",
    "        self.width  = w\n",
    "\n",
    "    def rectangle_area(self):\n",
    "        return self.length*self.width\n",
    "\n",
    "myRectangle = Rectangle(4,3)\n",
    "print(myRectangle.rectangle_area())"
   ]
  },
  {
   "cell_type": "code",
   "execution_count": 15,
   "id": "a0bda3dd",
   "metadata": {},
   "outputs": [
    {
     "name": "stdout",
     "output_type": "stream",
     "text": [
      "le périmètre du cercle C : 6.283185307179586\n",
      "la surface du cercle C  3.141592653589793\n",
      "the point: ( 1 1 ) n'appartient pas au cercle C\n"
     ]
    }
   ],
   "source": [
    "from math import pi\n",
    "class Cercle:\n",
    "    def __init__(self, a, b, r):\n",
    "        self.a = a\n",
    "        self.b = b\n",
    "        self.r = r\n",
    "\n",
    "    def perimeter (self):\n",
    "        return  2 * pi * self.r\n",
    "\n",
    "    def area (self):\n",
    "        return  pi * self.r**2\n",
    "    \n",
    "    def formEquation (self, x, y):\n",
    "        return (x-self.a)**2 + (y-self.b)**2 - self.r**2\n",
    "    \n",
    "    def test_belong (self, x, y):\n",
    "        if (self.formEquation (x, y) == 0):\n",
    "            print (\"the point: (\", x, y, \") appartient au cercle C\")\n",
    "        else:\n",
    "            print (\"the point: (\", x, y, \") n'appartient pas au cercle C\")\n",
    "\n",
    "\n",
    "C = Cercle (2,4,1)\n",
    "\n",
    "print (\"le périmètre du cercle C :\", C.perimeter() )\n",
    "print (\"la surface du cercle C \", C.area())\n",
    "C.test_belong(1,1) \n"
   ]
  },
  {
   "cell_type": "code",
   "execution_count": null,
   "id": "72319bf8",
   "metadata": {},
   "outputs": [],
   "source": [
    "class Bank_Account:\n",
    "    def __init__(self):\n",
    "        self.balance = 0\n",
    "\n",
    "    def deposit(self):\n",
    "        amount = float(input(\"Enter amount to be Deposited: \"))\n",
    "        self.balance += amount\n",
    "        print(\"\\n Amount Deposited:\", amount)\n",
    "\n",
    "    def withdraw(self):\n",
    "        amount = float(input(\"Enter amount to be Withdrawn: \"))\n",
    "        if self.balance >= amount:\n",
    "            self.balance -= amount\n",
    "            print(\"\\n You Withdrew:\", amount)\n",
    "        else:\n",
    "            print(\"\\n Insufficient balance  \")\n",
    "\n",
    "    def display(self):\n",
    "        print(\"\\n Net Available Balance=\", self.balance)\n",
    "\n",
    "s = Bank_Account()\n",
    "s.deposit()\n",
    "s.withdraw()\n",
    "s.display()"
   ]
  },
  {
   "cell_type": "code",
   "execution_count": null,
   "id": "b19c3475",
   "metadata": {},
   "outputs": [],
   "source": []
  }
 ],
 "metadata": {
  "kernelspec": {
   "display_name": "Python 3 (ipykernel)",
   "language": "python",
   "name": "python3"
  },
  "language_info": {
   "codemirror_mode": {
    "name": "ipython",
    "version": 3
   },
   "file_extension": ".py",
   "mimetype": "text/x-python",
   "name": "python",
   "nbconvert_exporter": "python",
   "pygments_lexer": "ipython3",
   "version": "3.9.12"
  }
 },
 "nbformat": 4,
 "nbformat_minor": 5
}
