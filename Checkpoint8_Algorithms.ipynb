{
 "cells": [
  {
   "cell_type": "code",
   "execution_count": 8,
   "id": "7e0d9b9e",
   "metadata": {},
   "outputs": [],
   "source": [
    "def binary_search(array,k,l,h):\n",
    "    if h>l:\n",
    "        mid = int(l+(h-l)//2) \n",
    "        if array[mid]==k:\n",
    "            return print(k,'is found')\n",
    "        elif array[mid]>k:\n",
    "            return binary_search(array,k,l,mid-1)\n",
    "        else:\n",
    "            return binary_search(array,k,mid+1,h)\n",
    "    else:\n",
    "        return print(k,'is not found')"
   ]
  },
  {
   "cell_type": "code",
   "execution_count": 9,
   "id": "5c440d66",
   "metadata": {},
   "outputs": [
    {
     "name": "stdout",
     "output_type": "stream",
     "text": [
      "6 is not found\n"
     ]
    }
   ],
   "source": [
    "array = [1,2,3,5,8]\n",
    "k=6;l=0;h=len(array)-1\n",
    "binary_search(array,k,l,h)"
   ]
  },
  {
   "cell_type": "code",
   "execution_count": 10,
   "id": "c0396a38",
   "metadata": {},
   "outputs": [
    {
     "name": "stdout",
     "output_type": "stream",
     "text": [
      "5 is found\n"
     ]
    }
   ],
   "source": [
    "array = [1,2,3,5,8]\n",
    "k=5;l=0;h=len(array)-1\n",
    "binary_search(array,k,l,h)"
   ]
  },
  {
   "cell_type": "code",
   "execution_count": 18,
   "id": "b893d35b",
   "metadata": {},
   "outputs": [
    {
     "data": {
      "text/plain": [
       "81"
      ]
     },
     "execution_count": 18,
     "metadata": {},
     "output_type": "execute_result"
    }
   ],
   "source": [
    "def power(a,b):\n",
    "    if b==0:\n",
    "        return 1\n",
    "    elif b==1:\n",
    "        return a\n",
    "    else:\n",
    "        b=b-1\n",
    "        return a*power(a,b)\n",
    "    \n",
    "power(3,4)"
   ]
  },
  {
   "cell_type": "code",
   "execution_count": 20,
   "id": "cca7263d",
   "metadata": {},
   "outputs": [
    {
     "data": {
      "text/plain": [
       "[13, 22, 29, 37, 46, 49, 52, 56, 71]"
      ]
     },
     "execution_count": 20,
     "metadata": {},
     "output_type": "execute_result"
    }
   ],
   "source": [
    "def bubble_sort(myList):\n",
    "    for nbtour in range(len(myList)-1,0,-1):\n",
    "        for i in range(nbtour):\n",
    "            if myList[i]>myList[i+1]:\n",
    "                temp = myList[i]\n",
    "                myList[i]=myList[i+1]\n",
    "                myList[i+1]=temp\n",
    "    return myList\n",
    "\n",
    "myList=[29,13,22,37,52,49,46,71,56]\n",
    "bubble_sort(myList)"
   ]
  },
  {
   "cell_type": "code",
   "execution_count": 22,
   "id": "ab29ca14",
   "metadata": {},
   "outputs": [
    {
     "name": "stdout",
     "output_type": "stream",
     "text": [
      "[13, 22, 29, 37, 46, 49, 52, 56, 71]\n"
     ]
    }
   ],
   "source": [
    "def mergeSort(myList):\n",
    "    if len(myList)>1:\n",
    "        mid=len(myList)//2\n",
    "        leftList=myList[:mid]\n",
    "        rightList=myList[mid:]\n",
    "        \n",
    "        mergeSort(leftList)\n",
    "        mergeSort(rightList)\n",
    "        \n",
    "        i=0\n",
    "        j=0\n",
    "        k=0\n",
    "        while i<len(leftList) and j<len(rightList):\n",
    "            if leftList[i]<rightList[j]:\n",
    "                myList[k]=leftList[i]\n",
    "                i+=1\n",
    "            else:\n",
    "                myList[k]=rightList[j]\n",
    "                j+=1\n",
    "            k+=1\n",
    "        while i<len(leftList):\n",
    "            myList[k]=leftList[i]\n",
    "            i+=1\n",
    "            k+=1\n",
    "        while j<len(rightList):\n",
    "            myList[k]=rightList[j]\n",
    "            j+=1\n",
    "            k+=1\n",
    "\n",
    "myList = [29,13,22,37,52,49,46,71,56]\n",
    "mergeSort(myList)\n",
    "print(myList)"
   ]
  },
  {
   "cell_type": "code",
   "execution_count": 25,
   "id": "3afbb312",
   "metadata": {},
   "outputs": [
    {
     "name": "stdout",
     "output_type": "stream",
     "text": [
      "[13, 22, 29, 37, 46, 49, 52, 56, 71]\n"
     ]
    }
   ],
   "source": [
    "def partition(array, start, end):\n",
    "\n",
    "    low=start +1\n",
    "    high=end\n",
    "    pivot=array[start]\n",
    "\n",
    "    while True:\n",
    "        while low <= high and array[high] >= pivot:\n",
    "            high = high - 1\n",
    "        while low<=high and array[low]<=pivot:\n",
    "            low = low+1\n",
    "        if low<=high:\n",
    "            array[low],array[high]=array[high],array[low]\n",
    "        else:\n",
    "            break\n",
    "    array[start], array[high] = array[high], array[start]\n",
    "\n",
    "    return high\n",
    "\n",
    "def quick_sort(array, start, end):\n",
    "    if start>=end:\n",
    "        return\n",
    "    p = partition(array, start, end)\n",
    "    quick_sort(array, start, p-1)\n",
    "    quick_sort(array, p+1, end)\n",
    "    \n",
    "array = [29,13,22,37,52,49,46,71,56]\n",
    "quick_sort(array, 0, len(array) - 1)\n",
    "print(array)"
   ]
  },
  {
   "cell_type": "code",
   "execution_count": null,
   "id": "87d6fb24",
   "metadata": {},
   "outputs": [],
   "source": []
  },
  {
   "cell_type": "code",
   "execution_count": null,
   "id": "71ac0469",
   "metadata": {},
   "outputs": [],
   "source": []
  }
 ],
 "metadata": {
  "kernelspec": {
   "display_name": "Python 3",
   "language": "python",
   "name": "python3"
  },
  "language_info": {
   "codemirror_mode": {
    "name": "ipython",
    "version": 3
   },
   "file_extension": ".py",
   "mimetype": "text/x-python",
   "name": "python",
   "nbconvert_exporter": "python",
   "pygments_lexer": "ipython3",
   "version": "3.8.8"
  }
 },
 "nbformat": 4,
 "nbformat_minor": 5
}
