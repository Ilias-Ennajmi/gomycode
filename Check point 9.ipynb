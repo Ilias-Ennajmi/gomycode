{
 "cells": [
  {
   "cell_type": "code",
   "execution_count": 1,
   "id": "51892919",
   "metadata": {},
   "outputs": [
    {
     "ename": "FileNotFoundError",
     "evalue": "[Errno 2] No such file or directory: 'test.txt'",
     "output_type": "error",
     "traceback": [
      "\u001b[1;31m---------------------------------------------------------------------------\u001b[0m",
      "\u001b[1;31mFileNotFoundError\u001b[0m                         Traceback (most recent call last)",
      "Input \u001b[1;32mIn [1]\u001b[0m, in \u001b[0;36m<cell line: 5>\u001b[1;34m()\u001b[0m\n\u001b[0;32m      2\u001b[0m         txt \u001b[38;5;241m=\u001b[39m \u001b[38;5;28mopen\u001b[39m(fname)\n\u001b[0;32m      3\u001b[0m         \u001b[38;5;28mprint\u001b[39m(txt\u001b[38;5;241m.\u001b[39mread())\n\u001b[1;32m----> 5\u001b[0m \u001b[43mfile_read\u001b[49m\u001b[43m(\u001b[49m\u001b[38;5;124;43m'\u001b[39;49m\u001b[38;5;124;43mtest.txt\u001b[39;49m\u001b[38;5;124;43m'\u001b[39;49m\u001b[43m)\u001b[49m\n",
      "Input \u001b[1;32mIn [1]\u001b[0m, in \u001b[0;36mfile_read\u001b[1;34m(fname)\u001b[0m\n\u001b[0;32m      1\u001b[0m \u001b[38;5;28;01mdef\u001b[39;00m \u001b[38;5;21mfile_read\u001b[39m(fname):\n\u001b[1;32m----> 2\u001b[0m         txt \u001b[38;5;241m=\u001b[39m \u001b[38;5;28;43mopen\u001b[39;49m\u001b[43m(\u001b[49m\u001b[43mfname\u001b[49m\u001b[43m)\u001b[49m\n\u001b[0;32m      3\u001b[0m         \u001b[38;5;28mprint\u001b[39m(txt\u001b[38;5;241m.\u001b[39mread())\n",
      "\u001b[1;31mFileNotFoundError\u001b[0m: [Errno 2] No such file or directory: 'test.txt'"
     ]
    }
   ],
   "source": [
    "def file_read(fname):\n",
    "        txt = open(fname)\n",
    "        print(txt.read())\n",
    "\n",
    "file_read('test.txt')"
   ]
  },
  {
   "cell_type": "code",
   "execution_count": null,
   "id": "ba32d2f0",
   "metadata": {},
   "outputs": [],
   "source": [
    "def count_words(filepath):\n",
    "   with open(filepath) as f:\n",
    "       data = f.read()\n",
    "       data.replace(\",\", \" \")\n",
    "       return len(data.split(\" \"))\n",
    "print(count_words(\"words.txt\"))\n"
   ]
  },
  {
   "cell_type": "code",
   "execution_count": null,
   "id": "42858e8f",
   "metadata": {},
   "outputs": [],
   "source": [
    "def read_lastnlines(fname,n):\n",
    "    with open('file1.txt') as f:\n",
    "        for line in (f.readlines() [-n:]):\n",
    "        print(line)\n",
    "\n",
    "read_lastnlines('file1.txt',3)"
   ]
  }
 ],
 "metadata": {
  "kernelspec": {
   "display_name": "Python 3 (ipykernel)",
   "language": "python",
   "name": "python3"
  },
  "language_info": {
   "codemirror_mode": {
    "name": "ipython",
    "version": 3
   },
   "file_extension": ".py",
   "mimetype": "text/x-python",
   "name": "python",
   "nbconvert_exporter": "python",
   "pygments_lexer": "ipython3",
   "version": "3.9.12"
  }
 },
 "nbformat": 4,
 "nbformat_minor": 5
}
