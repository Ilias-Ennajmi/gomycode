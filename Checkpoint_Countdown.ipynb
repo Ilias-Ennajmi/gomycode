{
 "cells": [
  {
   "cell_type": "code",
   "execution_count": 22,
   "id": "0939e7a2",
   "metadata": {},
   "outputs": [
    {
     "name": "stdout",
     "output_type": "stream",
     "text": [
      "your time 12\n",
      " “Fire in the hole”\n"
     ]
    }
   ],
   "source": [
    "import time as dt\n",
    "def countdown(t):\n",
    "    t=int(t)\n",
    "    while t>=0:\n",
    "        hr_ = divmod(t,3600)[0]\n",
    "        min_ = divmod(divmod(t,3600)[1],60)[0]\n",
    "        sec_ =divmod(divmod(t,3660)[1],60)[1]\n",
    "       \n",
    "        print(\"{:02d} hr:{:02d} min:{:02d} sec\".format(hr_,min_,sec_),end='\\r')\n",
    "        dt.sleep(1)\n",
    "        t=t-1\n",
    "    \n",
    "    print(\" “Fire in the hole”\")\n",
    "\n",
    "    return\n",
    "\n",
    "t=int(input('your time in second ?'))\n",
    "countdown(t)\n",
    "      "
   ]
  },
  {
   "cell_type": "code",
   "execution_count": null,
   "id": "f4cdc467",
   "metadata": {},
   "outputs": [],
   "source": []
  },
  {
   "cell_type": "code",
   "execution_count": null,
   "id": "b147e63f",
   "metadata": {},
   "outputs": [],
   "source": []
  },
  {
   "cell_type": "code",
   "execution_count": null,
   "id": "c7453188",
   "metadata": {},
   "outputs": [],
   "source": []
  },
  {
   "cell_type": "code",
   "execution_count": null,
   "id": "a8839ec0",
   "metadata": {},
   "outputs": [],
   "source": []
  }
 ],
 "metadata": {
  "kernelspec": {
   "display_name": "Python 3",
   "language": "python",
   "name": "python3"
  },
  "language_info": {
   "codemirror_mode": {
    "name": "ipython",
    "version": 3
   },
   "file_extension": ".py",
   "mimetype": "text/x-python",
   "name": "python",
   "nbconvert_exporter": "python",
   "pygments_lexer": "ipython3",
   "version": "3.8.8"
  }
 },
 "nbformat": 4,
 "nbformat_minor": 5
}
