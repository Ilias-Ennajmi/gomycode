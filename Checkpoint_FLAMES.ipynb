{
 "cells": [
  {
   "cell_type": "markdown",
   "id": "b0f4ce52",
   "metadata": {},
   "source": [
    "def remove_"
   ]
  },
  {
   "cell_type": "code",
   "execution_count": 17,
   "id": "5124cb8e",
   "metadata": {
    "scrolled": true
   },
   "outputs": [
    {
     "name": "stdout",
     "output_type": "stream",
     "text": [
      "1er nom ?PRIYA\n",
      "2nd nom ?AJAY\n"
     ]
    },
    {
     "data": {
      "text/plain": [
       "['F']"
      ]
     },
     "execution_count": 17,
     "metadata": {},
     "output_type": "execute_result"
    }
   ],
   "source": [
    "def remove_com_char(name1,name2):\n",
    "    list1=list(name1.lower().strip())\n",
    "    list2=list(name2.lower().strip())\n",
    "\n",
    "    #print(len(list1),len(list2))\n",
    "    list_doublon=[]\n",
    "    for i in range(0,len(list1),1):         \n",
    "        if list1[i] in list2:\n",
    "            list_doublon.append(list1[i])\n",
    "            c=list1[i]\n",
    "            list2.remove(c)\n",
    "            \n",
    "    for i in range(len(list_doublon)):\n",
    "        d = list_doublon[i]\n",
    "        list1.remove(d)\n",
    "                \n",
    "    list_ss_doublon=list1+list2\n",
    "    nb_char = len(list_ss_doublon)\n",
    "        \n",
    "          \n",
    "    return nb_char,list_ss_doublon\n",
    "\n",
    "def fl(flames,count,pos_dep=0):\n",
    "    if len(flames)==1:\n",
    "        return flames\n",
    "    else :\n",
    "        if pos_dep+count<len(flames)-pos_dep:\n",
    "            pos=count-1\n",
    "            flames.pop(pos)\n",
    "            if pos<=len(flames):\n",
    "                pos_dep=pos\n",
    "            else:\n",
    "                pos_dep=0\n",
    "        elif count-(len(flames)-pos_dep)<len(flames):\n",
    "            pos=count-(len(flames)-pos_dep)-1\n",
    "            flames.pop(pos)\n",
    "            if pos<=len(flames):\n",
    "                pos_dep=pos\n",
    "            else:\n",
    "                pos_dep=0\n",
    "        else:\n",
    "            pos=(count-(len(flames)-pos_dep)-1)%len(flames)\n",
    "            flames.pop((count-(len(flames)-pos_dep)-1)%len(flames))\n",
    "            if pos<=len(flames):\n",
    "                pos_dep=pos\n",
    "            else:\n",
    "                pos_dep=0\n",
    "        return fl(flames,count,pos_dep)    \n",
    "        \n",
    "\n",
    "flames= list(\"FLAMES\".strip())\n",
    "\n",
    "\n",
    "name1=input('1er nom ?')\n",
    "name2=input('2nd nom ?')\n",
    "count=remove_com_char(name1,name2)[0]\n",
    "fl(flames,count,0)\n",
    "\n",
    "\n"
   ]
  },
  {
   "cell_type": "code",
   "execution_count": null,
   "id": "46c486f6",
   "metadata": {},
   "outputs": [],
   "source": []
  },
  {
   "cell_type": "code",
   "execution_count": null,
   "id": "b96e2730",
   "metadata": {},
   "outputs": [],
   "source": []
  },
  {
   "cell_type": "code",
   "execution_count": null,
   "id": "81a355c4",
   "metadata": {},
   "outputs": [],
   "source": []
  },
  {
   "cell_type": "code",
   "execution_count": null,
   "id": "5b7707da",
   "metadata": {},
   "outputs": [],
   "source": []
  },
  {
   "cell_type": "code",
   "execution_count": null,
   "id": "7edcbb78",
   "metadata": {},
   "outputs": [],
   "source": []
  },
  {
   "cell_type": "code",
   "execution_count": null,
   "id": "4083b8ca",
   "metadata": {},
   "outputs": [],
   "source": []
  },
  {
   "cell_type": "code",
   "execution_count": null,
   "id": "50ae7cc2",
   "metadata": {},
   "outputs": [],
   "source": []
  },
  {
   "cell_type": "code",
   "execution_count": null,
   "id": "8c33ac9d",
   "metadata": {},
   "outputs": [],
   "source": []
  },
  {
   "cell_type": "code",
   "execution_count": null,
   "id": "5f96b3cf",
   "metadata": {},
   "outputs": [],
   "source": []
  },
  {
   "cell_type": "code",
   "execution_count": null,
   "id": "a80b5387",
   "metadata": {},
   "outputs": [],
   "source": []
  }
 ],
 "metadata": {
  "kernelspec": {
   "display_name": "Python 3",
   "language": "python",
   "name": "python3"
  },
  "language_info": {
   "codemirror_mode": {
    "name": "ipython",
    "version": 3
   },
   "file_extension": ".py",
   "mimetype": "text/x-python",
   "name": "python",
   "nbconvert_exporter": "python",
   "pygments_lexer": "ipython3",
   "version": "3.8.8"
  }
 },
 "nbformat": 4,
 "nbformat_minor": 5
}
