{
 "cells": [
  {
   "cell_type": "code",
   "execution_count": 4,
   "id": "2d0366dc",
   "metadata": {},
   "outputs": [
    {
     "name": "stdout",
     "output_type": "stream",
     "text": [
      "36\n"
     ]
    }
   ],
   "source": [
    "#Question - 1:\n",
    "def Liste de multiplacation(items):\n",
    "    total = 1\n",
    "    for x in items:\n",
    "        total *= x\n",
    "    return total\n",
    "print(Liste de multiplacation([2,3,6]))"
   ]
  },
  {
   "cell_type": "code",
   "execution_count": 7,
   "id": "1a993993",
   "metadata": {},
   "outputs": [
    {
     "name": "stdout",
     "output_type": "stream",
     "text": [
      "[(2, 1), (1, 2), (2, 3), (4, 4), (2, 5)]\n"
     ]
    }
   ],
   "source": [
    "#Question - 2:\n",
    "\n",
    "def last(n): return n[-1]\n",
    "def sort_list_last(tuples):\n",
    "    return sorted(tuples, key=last)\n",
    "print(sort_list_last([(2, 5), (1, 2), (4, 4), (2, 3), (2, 1)]))"
   ]
  },
  {
   "cell_type": "code",
   "execution_count": 8,
   "id": "f723e127",
   "metadata": {},
   "outputs": [
    {
     "name": "stdout",
     "output_type": "stream",
     "text": [
      "Counter({'a': 400, 'b': 400, 'd': 400, 'c': 300})\n"
     ]
    }
   ],
   "source": [
    "#Question - 3 \n",
    "from collections import Counter\n",
    "d1 = {'a': 100, 'b': 200, 'c':300}\n",
    "d2 = {'a': 300, 'b': 200, 'd':400}\n",
    "d = Counter(d1) + Counter(d2)\n",
    "print(d)"
   ]
  },
  {
   "cell_type": "code",
   "execution_count": 1,
   "id": "c3bf819f",
   "metadata": {},
   "outputs": [
    {
     "name": "stdout",
     "output_type": "stream",
     "text": [
      "Entrer un nombre: 8\n",
      "{1: 1, 2: 4, 3: 9, 4: 16, 5: 25, 6: 36, 7: 49, 8: 64}\n"
     ]
    }
   ],
   "source": [
    "#Question 4\n",
    "nombre = int(input(\"Entrer un nombre: \"))\n",
    "\n",
    "Dicnombre= {}\n",
    "for i in range(1, nombre+1):\n",
    "    Dicnombre[i] = i*i\n",
    "\n",
    "print(Dicnombre)"
   ]
  },
  {
   "cell_type": "code",
   "execution_count": 8,
   "id": "b72d1e94",
   "metadata": {},
   "outputs": [
    {
     "data": {
      "text/plain": [
       "[('item1', '12.20'), ('item2', '15.10'), ('item3', '24.5')]"
      ]
     },
     "execution_count": 8,
     "metadata": {},
     "output_type": "execute_result"
    }
   ],
   "source": [
    "#Question 5\n",
    "\n",
    "def last(n):\n",
    "    return float(n[-1])\n",
    "prix = [('item1', '12.20'), ('item2', '15.10'), ('item3', '24.5')]\n",
    "prix.sort(key = last)\n",
    "prix"
   ]
  },
  {
   "cell_type": "code",
   "execution_count": null,
   "id": "0fc2f2a7",
   "metadata": {},
   "outputs": [],
   "source": []
  },
  {
   "cell_type": "code",
   "execution_count": null,
   "id": "1a8e3e12",
   "metadata": {},
   "outputs": [],
   "source": []
  }
 ],
 "metadata": {
  "kernelspec": {
   "display_name": "Python 3 (ipykernel)",
   "language": "python",
   "name": "python3"
  },
  "language_info": {
   "codemirror_mode": {
    "name": "ipython",
    "version": 3
   },
   "file_extension": ".py",
   "mimetype": "text/x-python",
   "name": "python",
   "nbconvert_exporter": "python",
   "pygments_lexer": "ipython3",
   "version": "3.9.12"
  }
 },
 "nbformat": 4,
 "nbformat_minor": 5
}
